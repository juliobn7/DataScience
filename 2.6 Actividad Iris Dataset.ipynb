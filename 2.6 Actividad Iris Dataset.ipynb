{
 "cells": [
  {
   "cell_type": "markdown",
   "metadata": {},
   "source": [
    "# 2.6  Actividad: Iris Dataset"
   ]
  },
  {
   "cell_type": "markdown",
   "metadata": {},
   "source": [
    "## Análisis de estadística descriptiva\n",
    "El análisis de estadística descriptiva es el primer \n",
    "paso que hay que dar para conocer los datos \n",
    "\n",
    "### Metodología\n",
    "Paso 0. Detectar el tipo de características con las que \n",
    "vamos a trabajar: nominales, ordinales, de intervalo o \n",
    "de ratio\n",
    "\n",
    "-  Características nominales: no son medibles y no pueden ser objeto de\n",
    "ninguna operación, por ejemplo, ser ordenadas. Ej emplo: Sexo,\n",
    "Estado Civil.\n",
    "-  Características ordinales: no son medibles, pero pueden ser ordenadas,\n",
    "por ejemplo: Relativos a una opinión: Bueno, Regular, Malo. \n",
    "-  Características de intervalo: son medibles, pero sólo tiene sentido\n",
    "establecer diferencias o intervalos, por ejemplo: Fechas o las\n",
    "temperaturas en grados centígrados. \n",
    "-  Características de ratio: son medibles y tiene sentido establecer\n",
    "divisiones entre ellas, por ejemplo: temperatura en grados Kelvin,\n",
    "cantidades monetarias, pesos, longitudes. \n",
    "\n",
    "Paso 1: ¿Cómo se centran los datos? \n",
    "\n",
    "    • Mediana \n",
    "    • Moda \n",
    "    • Media\n",
    "    \n",
    "\n",
    "Paso 2: ¿Cómo se dispersan los datos? \n",
    "\n",
    "    • Varianza y desviación típica\n",
    "    • Coeficiente de variación \n",
    "    • Cuartiles y percentiles\n",
    "    • Máximo, minimos y Rango\n",
    "    \n",
    "Paso 3: ¿Qué forma tienen los datos?\n",
    "\n",
    "    • Histogramas\n",
    "    • Diagrana de cajas\n",
    "    \n",
    "Paso 4: (Más de una variable). ¿Cómo se relacionan los datos? \n",
    "\n",
    "Miden en la grado de relación de una variable con otra. Una alta relación puede significar redundancia de la información.\n",
    "\n",
    "    • Coeficiente de correlación de Pearson.\n",
    "    • Matriz de correlación.\n",
    "\n",
    "Éstas son siempre las primeras preguntas que se deben hacer a los datos, porque\n",
    "son también las más sencillas de responder. Si no las respondemos, no\n",
    "deberíamos seguir adelante haciéndonos más, y si lo hacemos, tenemos que\n",
    "pararnos a pensar sobre la lógica y el conocimiento que nos aportan. \n",
    "\n"
   ]
  },
  {
   "cell_type": "code",
   "execution_count": 25,
   "metadata": {},
   "outputs": [],
   "source": [
    "import pandas as pd\n",
    "import numpy as np\n",
    "import scipy.stats as ss\n",
    "import matplotlib.pyplot as plt\n",
    "import seaborn as sns"
   ]
  },
  {
   "cell_type": "code",
   "execution_count": 2,
   "metadata": {},
   "outputs": [],
   "source": [
    "iris = pd.read_csv('iris.csv')"
   ]
  },
  {
   "cell_type": "code",
   "execution_count": 3,
   "metadata": {},
   "outputs": [
    {
     "data": {
      "text/html": [
       "<img src=\"https://i0.wp.com/farm8.staticflickr.com/7866/47075467621_85ab810139_b.jpg?resize=900%2C300&ssl=1\"/>"
      ],
      "text/plain": [
       "<IPython.core.display.Image object>"
      ]
     },
     "execution_count": 3,
     "metadata": {},
     "output_type": "execute_result"
    }
   ],
   "source": [
    "from IPython.display import Image\n",
    "from IPython.core.display import HTML \n",
    "Image(url= \"https://i0.wp.com/farm8.staticflickr.com/7866/47075467621_85ab810139_b.jpg?resize=900%2C300&ssl=1\")"
   ]
  },
  {
   "cell_type": "code",
   "execution_count": 5,
   "metadata": {
    "scrolled": false
   },
   "outputs": [
    {
     "data": {
      "text/html": [
       "<img src=\"https://staticserver2.com/edu/static/it/800/petalo.jpg\"/>"
      ],
      "text/plain": [
       "<IPython.core.display.Image object>"
      ]
     },
     "execution_count": 5,
     "metadata": {},
     "output_type": "execute_result"
    }
   ],
   "source": [
    "from IPython.display import Image\n",
    "from IPython.core.display import HTML \n",
    "Image(url= \"https://staticserver2.com/edu/static/it/800/petalo.jpg\")"
   ]
  },
  {
   "cell_type": "code",
   "execution_count": 6,
   "metadata": {},
   "outputs": [],
   "source": [
    "# Tipos de Iris\n",
    "#![tipos_iris.jpg](attachment:tipos_iris.jpg)"
   ]
  },
  {
   "cell_type": "code",
   "execution_count": 7,
   "metadata": {},
   "outputs": [],
   "source": [
    "#![iris-sepalo-petalo.jpg](attachment:iris-sepalo-petalo.jpg)"
   ]
  },
  {
   "cell_type": "markdown",
   "metadata": {},
   "source": [
    "# Paso 0"
   ]
  },
  {
   "cell_type": "code",
   "execution_count": 8,
   "metadata": {},
   "outputs": [
    {
     "data": {
      "text/plain": [
       "pandas.core.frame.DataFrame"
      ]
     },
     "execution_count": 8,
     "metadata": {},
     "output_type": "execute_result"
    }
   ],
   "source": [
    "type(iris)"
   ]
  },
  {
   "cell_type": "code",
   "execution_count": 9,
   "metadata": {},
   "outputs": [
    {
     "data": {
      "text/plain": [
       "Index(['Id', 'SepalLengthCm', 'SepalWidthCm', 'PetalLengthCm', 'PetalWidthCm',\n",
       "       'Species'],\n",
       "      dtype='object')"
      ]
     },
     "execution_count": 9,
     "metadata": {},
     "output_type": "execute_result"
    }
   ],
   "source": [
    "iris.keys()"
   ]
  },
  {
   "cell_type": "code",
   "execution_count": 10,
   "metadata": {},
   "outputs": [
    {
     "data": {
      "text/html": [
       "<div>\n",
       "<style scoped>\n",
       "    .dataframe tbody tr th:only-of-type {\n",
       "        vertical-align: middle;\n",
       "    }\n",
       "\n",
       "    .dataframe tbody tr th {\n",
       "        vertical-align: top;\n",
       "    }\n",
       "\n",
       "    .dataframe thead th {\n",
       "        text-align: right;\n",
       "    }\n",
       "</style>\n",
       "<table border=\"1\" class=\"dataframe\">\n",
       "  <thead>\n",
       "    <tr style=\"text-align: right;\">\n",
       "      <th></th>\n",
       "      <th>Id</th>\n",
       "      <th>SepalLengthCm</th>\n",
       "      <th>SepalWidthCm</th>\n",
       "      <th>PetalLengthCm</th>\n",
       "      <th>PetalWidthCm</th>\n",
       "      <th>Species</th>\n",
       "    </tr>\n",
       "  </thead>\n",
       "  <tbody>\n",
       "    <tr>\n",
       "      <th>0</th>\n",
       "      <td>1</td>\n",
       "      <td>5.1</td>\n",
       "      <td>3.5</td>\n",
       "      <td>1.4</td>\n",
       "      <td>0.2</td>\n",
       "      <td>Iris-setosa</td>\n",
       "    </tr>\n",
       "    <tr>\n",
       "      <th>1</th>\n",
       "      <td>2</td>\n",
       "      <td>4.9</td>\n",
       "      <td>3.0</td>\n",
       "      <td>1.4</td>\n",
       "      <td>0.2</td>\n",
       "      <td>Iris-setosa</td>\n",
       "    </tr>\n",
       "    <tr>\n",
       "      <th>2</th>\n",
       "      <td>3</td>\n",
       "      <td>4.7</td>\n",
       "      <td>3.2</td>\n",
       "      <td>1.3</td>\n",
       "      <td>0.2</td>\n",
       "      <td>Iris-setosa</td>\n",
       "    </tr>\n",
       "    <tr>\n",
       "      <th>3</th>\n",
       "      <td>4</td>\n",
       "      <td>4.6</td>\n",
       "      <td>3.1</td>\n",
       "      <td>1.5</td>\n",
       "      <td>0.2</td>\n",
       "      <td>Iris-setosa</td>\n",
       "    </tr>\n",
       "    <tr>\n",
       "      <th>4</th>\n",
       "      <td>5</td>\n",
       "      <td>5.0</td>\n",
       "      <td>3.6</td>\n",
       "      <td>1.4</td>\n",
       "      <td>0.2</td>\n",
       "      <td>Iris-setosa</td>\n",
       "    </tr>\n",
       "    <tr>\n",
       "      <th>5</th>\n",
       "      <td>6</td>\n",
       "      <td>5.4</td>\n",
       "      <td>3.9</td>\n",
       "      <td>1.7</td>\n",
       "      <td>0.4</td>\n",
       "      <td>Iris-setosa</td>\n",
       "    </tr>\n",
       "    <tr>\n",
       "      <th>6</th>\n",
       "      <td>7</td>\n",
       "      <td>4.6</td>\n",
       "      <td>3.4</td>\n",
       "      <td>1.4</td>\n",
       "      <td>0.3</td>\n",
       "      <td>Iris-setosa</td>\n",
       "    </tr>\n",
       "    <tr>\n",
       "      <th>7</th>\n",
       "      <td>8</td>\n",
       "      <td>5.0</td>\n",
       "      <td>3.4</td>\n",
       "      <td>1.5</td>\n",
       "      <td>0.2</td>\n",
       "      <td>Iris-setosa</td>\n",
       "    </tr>\n",
       "    <tr>\n",
       "      <th>8</th>\n",
       "      <td>9</td>\n",
       "      <td>4.4</td>\n",
       "      <td>2.9</td>\n",
       "      <td>1.4</td>\n",
       "      <td>0.2</td>\n",
       "      <td>Iris-setosa</td>\n",
       "    </tr>\n",
       "    <tr>\n",
       "      <th>9</th>\n",
       "      <td>10</td>\n",
       "      <td>4.9</td>\n",
       "      <td>3.1</td>\n",
       "      <td>1.5</td>\n",
       "      <td>0.1</td>\n",
       "      <td>Iris-setosa</td>\n",
       "    </tr>\n",
       "  </tbody>\n",
       "</table>\n",
       "</div>"
      ],
      "text/plain": [
       "   Id  SepalLengthCm  SepalWidthCm  PetalLengthCm  PetalWidthCm      Species\n",
       "0   1            5.1           3.5            1.4           0.2  Iris-setosa\n",
       "1   2            4.9           3.0            1.4           0.2  Iris-setosa\n",
       "2   3            4.7           3.2            1.3           0.2  Iris-setosa\n",
       "3   4            4.6           3.1            1.5           0.2  Iris-setosa\n",
       "4   5            5.0           3.6            1.4           0.2  Iris-setosa\n",
       "5   6            5.4           3.9            1.7           0.4  Iris-setosa\n",
       "6   7            4.6           3.4            1.4           0.3  Iris-setosa\n",
       "7   8            5.0           3.4            1.5           0.2  Iris-setosa\n",
       "8   9            4.4           2.9            1.4           0.2  Iris-setosa\n",
       "9  10            4.9           3.1            1.5           0.1  Iris-setosa"
      ]
     },
     "execution_count": 10,
     "metadata": {},
     "output_type": "execute_result"
    }
   ],
   "source": [
    "iris.head(10)"
   ]
  },
  {
   "cell_type": "code",
   "execution_count": 11,
   "metadata": {},
   "outputs": [
    {
     "data": {
      "text/html": [
       "<div>\n",
       "<style scoped>\n",
       "    .dataframe tbody tr th:only-of-type {\n",
       "        vertical-align: middle;\n",
       "    }\n",
       "\n",
       "    .dataframe tbody tr th {\n",
       "        vertical-align: top;\n",
       "    }\n",
       "\n",
       "    .dataframe thead th {\n",
       "        text-align: right;\n",
       "    }\n",
       "</style>\n",
       "<table border=\"1\" class=\"dataframe\">\n",
       "  <thead>\n",
       "    <tr style=\"text-align: right;\">\n",
       "      <th></th>\n",
       "      <th>Id</th>\n",
       "      <th>SepalLengthCm</th>\n",
       "      <th>SepalWidthCm</th>\n",
       "      <th>PetalLengthCm</th>\n",
       "      <th>PetalWidthCm</th>\n",
       "      <th>Species</th>\n",
       "    </tr>\n",
       "  </thead>\n",
       "  <tbody>\n",
       "    <tr>\n",
       "      <th>140</th>\n",
       "      <td>141</td>\n",
       "      <td>6.7</td>\n",
       "      <td>3.1</td>\n",
       "      <td>5.6</td>\n",
       "      <td>2.4</td>\n",
       "      <td>Iris-virginica</td>\n",
       "    </tr>\n",
       "    <tr>\n",
       "      <th>141</th>\n",
       "      <td>142</td>\n",
       "      <td>6.9</td>\n",
       "      <td>3.1</td>\n",
       "      <td>5.1</td>\n",
       "      <td>2.3</td>\n",
       "      <td>Iris-virginica</td>\n",
       "    </tr>\n",
       "    <tr>\n",
       "      <th>142</th>\n",
       "      <td>143</td>\n",
       "      <td>5.8</td>\n",
       "      <td>2.7</td>\n",
       "      <td>5.1</td>\n",
       "      <td>1.9</td>\n",
       "      <td>Iris-virginica</td>\n",
       "    </tr>\n",
       "    <tr>\n",
       "      <th>143</th>\n",
       "      <td>144</td>\n",
       "      <td>6.8</td>\n",
       "      <td>3.2</td>\n",
       "      <td>5.9</td>\n",
       "      <td>2.3</td>\n",
       "      <td>Iris-virginica</td>\n",
       "    </tr>\n",
       "    <tr>\n",
       "      <th>144</th>\n",
       "      <td>145</td>\n",
       "      <td>6.7</td>\n",
       "      <td>3.3</td>\n",
       "      <td>5.7</td>\n",
       "      <td>2.5</td>\n",
       "      <td>Iris-virginica</td>\n",
       "    </tr>\n",
       "    <tr>\n",
       "      <th>145</th>\n",
       "      <td>146</td>\n",
       "      <td>6.7</td>\n",
       "      <td>3.0</td>\n",
       "      <td>5.2</td>\n",
       "      <td>2.3</td>\n",
       "      <td>Iris-virginica</td>\n",
       "    </tr>\n",
       "    <tr>\n",
       "      <th>146</th>\n",
       "      <td>147</td>\n",
       "      <td>6.3</td>\n",
       "      <td>2.5</td>\n",
       "      <td>5.0</td>\n",
       "      <td>1.9</td>\n",
       "      <td>Iris-virginica</td>\n",
       "    </tr>\n",
       "    <tr>\n",
       "      <th>147</th>\n",
       "      <td>148</td>\n",
       "      <td>6.5</td>\n",
       "      <td>3.0</td>\n",
       "      <td>5.2</td>\n",
       "      <td>2.0</td>\n",
       "      <td>Iris-virginica</td>\n",
       "    </tr>\n",
       "    <tr>\n",
       "      <th>148</th>\n",
       "      <td>149</td>\n",
       "      <td>6.2</td>\n",
       "      <td>3.4</td>\n",
       "      <td>5.4</td>\n",
       "      <td>2.3</td>\n",
       "      <td>Iris-virginica</td>\n",
       "    </tr>\n",
       "    <tr>\n",
       "      <th>149</th>\n",
       "      <td>150</td>\n",
       "      <td>5.9</td>\n",
       "      <td>3.0</td>\n",
       "      <td>5.1</td>\n",
       "      <td>1.8</td>\n",
       "      <td>Iris-virginica</td>\n",
       "    </tr>\n",
       "  </tbody>\n",
       "</table>\n",
       "</div>"
      ],
      "text/plain": [
       "      Id  SepalLengthCm  SepalWidthCm  PetalLengthCm  PetalWidthCm  \\\n",
       "140  141            6.7           3.1            5.6           2.4   \n",
       "141  142            6.9           3.1            5.1           2.3   \n",
       "142  143            5.8           2.7            5.1           1.9   \n",
       "143  144            6.8           3.2            5.9           2.3   \n",
       "144  145            6.7           3.3            5.7           2.5   \n",
       "145  146            6.7           3.0            5.2           2.3   \n",
       "146  147            6.3           2.5            5.0           1.9   \n",
       "147  148            6.5           3.0            5.2           2.0   \n",
       "148  149            6.2           3.4            5.4           2.3   \n",
       "149  150            5.9           3.0            5.1           1.8   \n",
       "\n",
       "            Species  \n",
       "140  Iris-virginica  \n",
       "141  Iris-virginica  \n",
       "142  Iris-virginica  \n",
       "143  Iris-virginica  \n",
       "144  Iris-virginica  \n",
       "145  Iris-virginica  \n",
       "146  Iris-virginica  \n",
       "147  Iris-virginica  \n",
       "148  Iris-virginica  \n",
       "149  Iris-virginica  "
      ]
     },
     "execution_count": 11,
     "metadata": {},
     "output_type": "execute_result"
    }
   ],
   "source": [
    "iris.tail(10)"
   ]
  },
  {
   "cell_type": "code",
   "execution_count": 12,
   "metadata": {},
   "outputs": [
    {
     "data": {
      "text/plain": [
       "(150, 6)"
      ]
     },
     "execution_count": 12,
     "metadata": {},
     "output_type": "execute_result"
    }
   ],
   "source": [
    "iris.shape"
   ]
  },
  {
   "cell_type": "code",
   "execution_count": 13,
   "metadata": {},
   "outputs": [
    {
     "data": {
      "text/plain": [
       "array(['Id', 'SepalLengthCm', 'SepalWidthCm', 'PetalLengthCm',\n",
       "       'PetalWidthCm', 'Species'], dtype=object)"
      ]
     },
     "execution_count": 13,
     "metadata": {},
     "output_type": "execute_result"
    }
   ],
   "source": [
    "iris.columns.values"
   ]
  },
  {
   "cell_type": "markdown",
   "metadata": {},
   "source": [
    "### Conclusión: \n",
    "#### La data esta conpuesta por un DataFrame de 150 filas y 6 columnas, estos datos son de características de ratio por que son medibles y tiene sentido establecer medidas entre ellas ya que tienen valores de longitud."
   ]
  },
  {
   "cell_type": "markdown",
   "metadata": {},
   "source": [
    "# Paso 1\n",
    "\n",
    "    • Mediana = Si ordenamos los datos de una muestra de mayor a menor, es el valor que divide a la muestra en dos partes\n",
    "                iguales.\n",
    "    • Moda    = Es el valor más frecuente de una muestra.\n",
    "    • Media   = Es la suma de N elementos dividida entre N."
   ]
  },
  {
   "cell_type": "code",
   "execution_count": 14,
   "metadata": {},
   "outputs": [
    {
     "name": "stdout",
     "output_type": "stream",
     "text": [
      "\n",
      "LONGITUD SEPALO\n",
      "    Media   : 5.843333\n",
      "    Mediana : 5.800000\n",
      "    Moda    : 5.000000\n",
      "\n",
      "\n",
      "ANCHO SEPALO\n",
      "    Media   : 3.054000\n",
      "    Mediana : 3.000000\n",
      "    Moda    : 3.000000\n",
      "\n",
      "\n",
      "LONGITUD PETALO\n",
      "    Media   : 3.758667\n",
      "    Mediana : 4.350000\n",
      "    Moda    : 1.500000\n",
      "\n",
      "\n",
      "ANCHO PETALO\n",
      "    Media   : 1.198667\n",
      "    Mediana : 1.300000\n",
      "    Moda    : 0.200000\n",
      "\n"
     ]
    }
   ],
   "source": [
    "media = iris[\"SepalLengthCm\"].mean()\n",
    "mediana = iris[\"SepalLengthCm\"].median()\n",
    "moda = iris[\"SepalLengthCm\"].mode()\n",
    "print(\"\"\"\n",
    "LONGITUD SEPALO\n",
    "    Media   : %f\n",
    "    Mediana : %f\n",
    "    Moda    : %f\n",
    "\"\"\" % (media,mediana,moda))\n",
    "\n",
    "media = iris[\"SepalWidthCm\"].mean()\n",
    "mediana = iris[\"SepalWidthCm\"].median()\n",
    "moda = iris[\"SepalWidthCm\"].mode()\n",
    "print(\"\"\"\n",
    "ANCHO SEPALO\n",
    "    Media   : %f\n",
    "    Mediana : %f\n",
    "    Moda    : %f\n",
    "\"\"\" % (media,mediana,moda))\n",
    "\n",
    "media = iris[\"PetalLengthCm\"].mean()\n",
    "mediana = iris[\"PetalLengthCm\"].median()\n",
    "moda = iris[\"PetalLengthCm\"].mode()\n",
    "print(\"\"\"\n",
    "LONGITUD PETALO\n",
    "    Media   : %f\n",
    "    Mediana : %f\n",
    "    Moda    : %f\n",
    "\"\"\" % (media,mediana,moda))\n",
    "\n",
    "media = iris[\"PetalWidthCm\"].mean()\n",
    "mediana = iris[\"PetalWidthCm\"].median()\n",
    "moda = iris[\"PetalWidthCm\"].mode()\n",
    "print(\"\"\"\n",
    "ANCHO PETALO\n",
    "    Media   : %f\n",
    "    Mediana : %f\n",
    "    Moda    : %f\n",
    "\"\"\" % (media,mediana,moda))"
   ]
  },
  {
   "cell_type": "markdown",
   "metadata": {},
   "source": [
    "### Conclusión: \n",
    "#### La longitud y el ancho de los Sepalos son casi iguales en los tres tipos de Iris, sin embargo la longitud y ancho de los petalos son variados."
   ]
  },
  {
   "cell_type": "code",
   "execution_count": null,
   "metadata": {},
   "outputs": [],
   "source": []
  },
  {
   "cell_type": "markdown",
   "metadata": {},
   "source": [
    "# Paso 2\n",
    "    • Desviación Típica     = Mide la dispersión de los datos respecto a la media. Se trata de la raíz cuadrada de \n",
    "                              la varianza.\n",
    "    • Varianza              = Nos permite identificar la diferencia promedio que hay entre cada uno de los valores respecto a\n",
    "                              la Media.\n",
    "    • Coeficiente Variación = Se utiliza para tener una idea de las veces que la Desviación Típica supera a la Media y en \n",
    "                              donde estan los datos más dispersos.\n",
    "    • Percentil al 90%      = El concepto es igual al de la mediana, salvo que aquí la división ya no es en el 50%.\n",
    "    • Máximo                = Es el máximo valor que contiene el DataSet.\n",
    "    • Mínimo                = Es el mínimo valor que contiene el DataSet.\n",
    "    • Rango                 = Es la diferencia entre el máximo y el mínimo del DataSet."
   ]
  },
  {
   "cell_type": "code",
   "execution_count": 15,
   "metadata": {},
   "outputs": [
    {
     "name": "stdout",
     "output_type": "stream",
     "text": [
      "\n",
      "LONGITUD SEPALO\n",
      "    Desviación Típica     : 0.825301\n",
      "    Varianza              : 0.681122\n",
      "    Coeficiente Variación : 0.141238\n",
      "    Percentil al 90       : 6.900000\n",
      "    Máximo                : 7.900000\n",
      "    Mínimo                : 4.300000\n",
      "    Rango                 : 3.600000\n",
      "\n",
      "\n",
      "ANCHO SEPALO\n",
      "    Desviación Típica     : 0.432147\n",
      "    Varianza              : 0.186751\n",
      "    Coeficiente Variación : 0.141502\n",
      "    Percentil al 90       : 3.610000\n",
      "    Máximo                : 4.400000\n",
      "    Mínimo                : 2.000000\n",
      "    Rango                 : 2.400000\n",
      "\n",
      "\n",
      "LARGO PETALO\n",
      "    Desviación Típica     : 1.758529\n",
      "    Varianza              : 3.092425\n",
      "    Coeficiente Variación : 0.467860\n",
      "    Percentil al 90       : 5.800000\n",
      "    Máximo                : 6.900000\n",
      "    Mínimo                : 1.000000\n",
      "    Rango                 : 5.900000\n",
      "\n",
      "\n",
      "ANCHO SEPALO\n",
      "    Desviación Típica     : 0.760613\n",
      "    Varianza              : 0.578532\n",
      "    Coeficiente Variación : 0.634549\n",
      "    Percentil al 90       : 2.200000\n",
      "    Máximo                : 2.500000\n",
      "    Mínimo                : 0.100000\n",
      "    Rango                 : 2.400000\n",
      "\n"
     ]
    }
   ],
   "source": [
    "desviacion_tipica = iris[\"SepalLengthCm\"].std(ddof=0)\n",
    "varianza = iris[\"SepalLengthCm\"].var(ddof=0)\n",
    "coeficiente_variacion = iris[\"SepalLengthCm\"].std(ddof=0) / iris[\"SepalLengthCm\"].mean()\n",
    "percentil = iris[\"SepalLengthCm\"].quantile(0.9)\n",
    "maximo = iris[\"SepalLengthCm\"].max()\n",
    "minimo = iris[\"SepalLengthCm\"].min()\n",
    "rango = iris[\"SepalLengthCm\"].max() - iris[\"SepalLengthCm\"].min()\n",
    "#coeficiente_variacion2 = ss.variation(iris[\"SepalLengthCm\"])\n",
    "print(\"\"\"\n",
    "LONGITUD SEPALO\n",
    "    Desviación Típica     : %f\n",
    "    Varianza              : %f\n",
    "    Coeficiente Variación : %f\n",
    "    Percentil al 90       : %f\n",
    "    Máximo                : %f\n",
    "    Mínimo                : %f\n",
    "    Rango                 : %f\n",
    "\"\"\" % (desviacion_tipica,varianza,coeficiente_variacion, percentil, maximo, minimo, rango))\n",
    "\n",
    "desviacion_tipica = iris[\"SepalWidthCm\"].std(ddof=0)\n",
    "varianza = iris[\"SepalWidthCm\"].var(ddof=0)\n",
    "coeficiente_variacion = iris[\"SepalWidthCm\"].std(ddof=0) / iris[\"SepalWidthCm\"].mean()\n",
    "percentil = iris[\"SepalWidthCm\"].quantile(0.9)\n",
    "maximo = iris[\"SepalWidthCm\"].max()\n",
    "minimo = iris[\"SepalWidthCm\"].min()\n",
    "rango = iris[\"SepalWidthCm\"].max() - iris[\"SepalWidthCm\"].min()\n",
    "#coeficiente_variacion2 = ss.variation(iris[\"SepalLengthCm\"])\n",
    "print(\"\"\"\n",
    "ANCHO SEPALO\n",
    "    Desviación Típica     : %f\n",
    "    Varianza              : %f\n",
    "    Coeficiente Variación : %f\n",
    "    Percentil al 90       : %f\n",
    "    Máximo                : %f\n",
    "    Mínimo                : %f\n",
    "    Rango                 : %f\n",
    "\"\"\" % (desviacion_tipica,varianza,coeficiente_variacion, percentil, maximo, minimo, rango))\n",
    "\n",
    "desviacion_tipica = iris[\"PetalLengthCm\"].std(ddof=0)\n",
    "varianza = iris[\"PetalLengthCm\"].var(ddof=0)\n",
    "coeficiente_variacion = iris[\"PetalLengthCm\"].std(ddof=0) / iris[\"PetalLengthCm\"].mean()\n",
    "percentil = iris[\"PetalLengthCm\"].quantile(0.9)\n",
    "maximo = iris[\"PetalLengthCm\"].max()\n",
    "minimo = iris[\"PetalLengthCm\"].min()\n",
    "rango = iris[\"PetalLengthCm\"].max() - iris[\"PetalLengthCm\"].min()\n",
    "#coeficiente_variacion2 = ss.variation(iris[\"SepalLengthCm\"])\n",
    "print(\"\"\"\n",
    "LARGO PETALO\n",
    "    Desviación Típica     : %f\n",
    "    Varianza              : %f\n",
    "    Coeficiente Variación : %f\n",
    "    Percentil al 90       : %f\n",
    "    Máximo                : %f\n",
    "    Mínimo                : %f\n",
    "    Rango                 : %f\n",
    "\"\"\" % (desviacion_tipica,varianza,coeficiente_variacion, percentil, maximo, minimo, rango))\n",
    "\n",
    "desviacion_tipica = iris[\"PetalWidthCm\"].std(ddof=0)\n",
    "varianza = iris[\"PetalWidthCm\"].var(ddof=0)\n",
    "coeficiente_variacion = iris[\"PetalWidthCm\"].std(ddof=0) / iris[\"PetalWidthCm\"].mean()\n",
    "percentil = iris[\"PetalWidthCm\"].quantile(0.9)\n",
    "maximo = iris[\"PetalWidthCm\"].max()\n",
    "minimo = iris[\"PetalWidthCm\"].min()\n",
    "rango = iris[\"PetalWidthCm\"].max() - iris[\"PetalWidthCm\"].min()\n",
    "#coeficiente_variacion2 = ss.variation(iris[\"SepalLengthCm\"])\n",
    "print(\"\"\"\n",
    "ANCHO SEPALO\n",
    "    Desviación Típica     : %f\n",
    "    Varianza              : %f\n",
    "    Coeficiente Variación : %f\n",
    "    Percentil al 90       : %f\n",
    "    Máximo                : %f\n",
    "    Mínimo                : %f\n",
    "    Rango                 : %f\n",
    "\"\"\" % (desviacion_tipica,varianza,coeficiente_variacion, percentil, maximo, minimo, rango))"
   ]
  },
  {
   "cell_type": "markdown",
   "metadata": {},
   "source": [
    "### Conclusión: \n",
    "#### Los sépalos tienen poca disperción y su valores son parecidos al valor de la  media, mientras que los pétalos tienen una disperción más amplia con respecto a la media."
   ]
  },
  {
   "cell_type": "code",
   "execution_count": null,
   "metadata": {},
   "outputs": [],
   "source": []
  },
  {
   "cell_type": "markdown",
   "metadata": {},
   "source": [
    "# Paso 3\n",
    "    • Histogramas\n",
    "    • Diagrana de cajas"
   ]
  },
  {
   "cell_type": "code",
   "execution_count": 16,
   "metadata": {},
   "outputs": [
    {
     "data": {
      "text/plain": [
       "array([[<matplotlib.axes._subplots.AxesSubplot object at 0x0000027AAC9CF518>,\n",
       "        <matplotlib.axes._subplots.AxesSubplot object at 0x0000027AACC62160>],\n",
       "       [<matplotlib.axes._subplots.AxesSubplot object at 0x0000027AACC7D3C8>,\n",
       "        <matplotlib.axes._subplots.AxesSubplot object at 0x0000027AACC98630>]],\n",
       "      dtype=object)"
      ]
     },
     "execution_count": 16,
     "metadata": {},
     "output_type": "execute_result"
    },
    {
     "data": {
      "image/png": "[encoded data removed]",
      "text/plain": [
       "<Figure size 720x720 with 4 Axes>"
      ]
     },
     "metadata": {
      "needs_background": "light"
     },
     "output_type": "display_data"
    }
   ],
   "source": [
    "iris.hist(\n",
    "    column=[\"SepalLengthCm\", \"SepalWidthCm\", \"PetalLengthCm\", \"PetalWidthCm\", \"Species\"],\n",
    "    figsize=(10, 10))"
   ]
  },
  {
   "cell_type": "code",
   "execution_count": 17,
   "metadata": {
    "scrolled": true
   },
   "outputs": [
    {
     "data": {
      "text/plain": [
       "Text(0.5, 1.0, 'PetalWidthCm')"
      ]
     },
     "execution_count": 17,
     "metadata": {},
     "output_type": "execute_result"
    },
    {
     "data": {
      "image/png": "[encoded data removed]",
      "text/plain": [
       "<Figure size 432x288 with 4 Axes>"
      ]
     },
     "metadata": {
      "needs_background": "light"
     },
     "output_type": "display_data"
    }
   ],
   "source": [
    "fig, axs = plt.subplots(2, 2)\n",
    "\n",
    "# basic plot\n",
    "axs[0, 0].boxplot(iris[\"SepalLengthCm\"])\n",
    "axs[0, 0].set_title('SepalLengthCm')\n",
    "\n",
    "axs[0, 1].boxplot(iris[\"SepalWidthCm\"])\n",
    "axs[0, 1].set_title('SepalWidthCm')\n",
    "\n",
    "axs[1, 0].boxplot(iris[\"PetalLengthCm\"])\n",
    "axs[1, 0].set_title('PetalLengthCm')\n",
    "\n",
    "axs[1, 1].boxplot(iris[\"PetalWidthCm\"])\n",
    "axs[1, 1].set_title('PetalWidthCm')"
   ]
  },
  {
   "cell_type": "markdown",
   "metadata": {},
   "source": [
    "### Conclusión: \n",
    "#### Los histogramas y diagramas de cajas confirman lo concluído en el paso 2."
   ]
  },
  {
   "cell_type": "markdown",
   "metadata": {},
   "source": [
    "# Paso 4\n",
    "    • Coeficiente de correlación de Pearson.\n",
    "    • Matriz de correlación."
   ]
  },
  {
   "cell_type": "code",
   "execution_count": 18,
   "metadata": {},
   "outputs": [
    {
     "data": {
      "text/html": [
       "<div>\n",
       "<style scoped>\n",
       "    .dataframe tbody tr th:only-of-type {\n",
       "        vertical-align: middle;\n",
       "    }\n",
       "\n",
       "    .dataframe tbody tr th {\n",
       "        vertical-align: top;\n",
       "    }\n",
       "\n",
       "    .dataframe thead th {\n",
       "        text-align: right;\n",
       "    }\n",
       "</style>\n",
       "<table border=\"1\" class=\"dataframe\">\n",
       "  <thead>\n",
       "    <tr style=\"text-align: right;\">\n",
       "      <th></th>\n",
       "      <th>Id</th>\n",
       "      <th>SepalLengthCm</th>\n",
       "      <th>SepalWidthCm</th>\n",
       "      <th>PetalLengthCm</th>\n",
       "      <th>PetalWidthCm</th>\n",
       "      <th>Species</th>\n",
       "    </tr>\n",
       "  </thead>\n",
       "  <tbody>\n",
       "    <tr>\n",
       "      <th>0</th>\n",
       "      <td>1</td>\n",
       "      <td>5.1</td>\n",
       "      <td>3.5</td>\n",
       "      <td>1.4</td>\n",
       "      <td>0.2</td>\n",
       "      <td>Iris-setosa</td>\n",
       "    </tr>\n",
       "    <tr>\n",
       "      <th>1</th>\n",
       "      <td>2</td>\n",
       "      <td>4.9</td>\n",
       "      <td>3.0</td>\n",
       "      <td>1.4</td>\n",
       "      <td>0.2</td>\n",
       "      <td>Iris-setosa</td>\n",
       "    </tr>\n",
       "    <tr>\n",
       "      <th>2</th>\n",
       "      <td>3</td>\n",
       "      <td>4.7</td>\n",
       "      <td>3.2</td>\n",
       "      <td>1.3</td>\n",
       "      <td>0.2</td>\n",
       "      <td>Iris-setosa</td>\n",
       "    </tr>\n",
       "    <tr>\n",
       "      <th>3</th>\n",
       "      <td>4</td>\n",
       "      <td>4.6</td>\n",
       "      <td>3.1</td>\n",
       "      <td>1.5</td>\n",
       "      <td>0.2</td>\n",
       "      <td>Iris-setosa</td>\n",
       "    </tr>\n",
       "    <tr>\n",
       "      <th>4</th>\n",
       "      <td>5</td>\n",
       "      <td>5.0</td>\n",
       "      <td>3.6</td>\n",
       "      <td>1.4</td>\n",
       "      <td>0.2</td>\n",
       "      <td>Iris-setosa</td>\n",
       "    </tr>\n",
       "  </tbody>\n",
       "</table>\n",
       "</div>"
      ],
      "text/plain": [
       "   Id  SepalLengthCm  SepalWidthCm  PetalLengthCm  PetalWidthCm      Species\n",
       "0   1            5.1           3.5            1.4           0.2  Iris-setosa\n",
       "1   2            4.9           3.0            1.4           0.2  Iris-setosa\n",
       "2   3            4.7           3.2            1.3           0.2  Iris-setosa\n",
       "3   4            4.6           3.1            1.5           0.2  Iris-setosa\n",
       "4   5            5.0           3.6            1.4           0.2  Iris-setosa"
      ]
     },
     "execution_count": 18,
     "metadata": {},
     "output_type": "execute_result"
    }
   ],
   "source": [
    "iris.head()"
   ]
  },
  {
   "cell_type": "code",
   "execution_count": 19,
   "metadata": {},
   "outputs": [],
   "source": [
    "del iris['Id']"
   ]
  },
  {
   "cell_type": "code",
   "execution_count": 20,
   "metadata": {},
   "outputs": [
    {
     "data": {
      "text/html": [
       "<div>\n",
       "<style scoped>\n",
       "    .dataframe tbody tr th:only-of-type {\n",
       "        vertical-align: middle;\n",
       "    }\n",
       "\n",
       "    .dataframe tbody tr th {\n",
       "        vertical-align: top;\n",
       "    }\n",
       "\n",
       "    .dataframe thead th {\n",
       "        text-align: right;\n",
       "    }\n",
       "</style>\n",
       "<table border=\"1\" class=\"dataframe\">\n",
       "  <thead>\n",
       "    <tr style=\"text-align: right;\">\n",
       "      <th></th>\n",
       "      <th>SepalLengthCm</th>\n",
       "      <th>SepalWidthCm</th>\n",
       "      <th>PetalLengthCm</th>\n",
       "      <th>PetalWidthCm</th>\n",
       "      <th>Species</th>\n",
       "    </tr>\n",
       "  </thead>\n",
       "  <tbody>\n",
       "    <tr>\n",
       "      <th>0</th>\n",
       "      <td>5.1</td>\n",
       "      <td>3.5</td>\n",
       "      <td>1.4</td>\n",
       "      <td>0.2</td>\n",
       "      <td>Iris-setosa</td>\n",
       "    </tr>\n",
       "    <tr>\n",
       "      <th>1</th>\n",
       "      <td>4.9</td>\n",
       "      <td>3.0</td>\n",
       "      <td>1.4</td>\n",
       "      <td>0.2</td>\n",
       "      <td>Iris-setosa</td>\n",
       "    </tr>\n",
       "    <tr>\n",
       "      <th>2</th>\n",
       "      <td>4.7</td>\n",
       "      <td>3.2</td>\n",
       "      <td>1.3</td>\n",
       "      <td>0.2</td>\n",
       "      <td>Iris-setosa</td>\n",
       "    </tr>\n",
       "    <tr>\n",
       "      <th>3</th>\n",
       "      <td>4.6</td>\n",
       "      <td>3.1</td>\n",
       "      <td>1.5</td>\n",
       "      <td>0.2</td>\n",
       "      <td>Iris-setosa</td>\n",
       "    </tr>\n",
       "    <tr>\n",
       "      <th>4</th>\n",
       "      <td>5.0</td>\n",
       "      <td>3.6</td>\n",
       "      <td>1.4</td>\n",
       "      <td>0.2</td>\n",
       "      <td>Iris-setosa</td>\n",
       "    </tr>\n",
       "  </tbody>\n",
       "</table>\n",
       "</div>"
      ],
      "text/plain": [
       "   SepalLengthCm  SepalWidthCm  PetalLengthCm  PetalWidthCm      Species\n",
       "0            5.1           3.5            1.4           0.2  Iris-setosa\n",
       "1            4.9           3.0            1.4           0.2  Iris-setosa\n",
       "2            4.7           3.2            1.3           0.2  Iris-setosa\n",
       "3            4.6           3.1            1.5           0.2  Iris-setosa\n",
       "4            5.0           3.6            1.4           0.2  Iris-setosa"
      ]
     },
     "execution_count": 20,
     "metadata": {},
     "output_type": "execute_result"
    }
   ],
   "source": [
    "iris.head()"
   ]
  },
  {
   "cell_type": "code",
   "execution_count": 22,
   "metadata": {},
   "outputs": [
    {
     "data": {
      "text/html": [
       "<div>\n",
       "<style scoped>\n",
       "    .dataframe tbody tr th:only-of-type {\n",
       "        vertical-align: middle;\n",
       "    }\n",
       "\n",
       "    .dataframe tbody tr th {\n",
       "        vertical-align: top;\n",
       "    }\n",
       "\n",
       "    .dataframe thead th {\n",
       "        text-align: right;\n",
       "    }\n",
       "</style>\n",
       "<table border=\"1\" class=\"dataframe\">\n",
       "  <thead>\n",
       "    <tr style=\"text-align: right;\">\n",
       "      <th></th>\n",
       "      <th>SepalLengthCm</th>\n",
       "      <th>SepalWidthCm</th>\n",
       "      <th>PetalLengthCm</th>\n",
       "      <th>PetalWidthCm</th>\n",
       "    </tr>\n",
       "  </thead>\n",
       "  <tbody>\n",
       "    <tr>\n",
       "      <th>SepalLengthCm</th>\n",
       "      <td>1.000000</td>\n",
       "      <td>-0.109369</td>\n",
       "      <td>0.871754</td>\n",
       "      <td>0.817954</td>\n",
       "    </tr>\n",
       "    <tr>\n",
       "      <th>SepalWidthCm</th>\n",
       "      <td>-0.109369</td>\n",
       "      <td>1.000000</td>\n",
       "      <td>-0.420516</td>\n",
       "      <td>-0.356544</td>\n",
       "    </tr>\n",
       "    <tr>\n",
       "      <th>PetalLengthCm</th>\n",
       "      <td>0.871754</td>\n",
       "      <td>-0.420516</td>\n",
       "      <td>1.000000</td>\n",
       "      <td>0.962757</td>\n",
       "    </tr>\n",
       "    <tr>\n",
       "      <th>PetalWidthCm</th>\n",
       "      <td>0.817954</td>\n",
       "      <td>-0.356544</td>\n",
       "      <td>0.962757</td>\n",
       "      <td>1.000000</td>\n",
       "    </tr>\n",
       "  </tbody>\n",
       "</table>\n",
       "</div>"
      ],
      "text/plain": [
       "               SepalLengthCm  SepalWidthCm  PetalLengthCm  PetalWidthCm\n",
       "SepalLengthCm       1.000000     -0.109369       0.871754      0.817954\n",
       "SepalWidthCm       -0.109369      1.000000      -0.420516     -0.356544\n",
       "PetalLengthCm       0.871754     -0.420516       1.000000      0.962757\n",
       "PetalWidthCm        0.817954     -0.356544       0.962757      1.000000"
      ]
     },
     "execution_count": 22,
     "metadata": {},
     "output_type": "execute_result"
    }
   ],
   "source": [
    "iris.corr(method=\"pearson\")"
   ]
  },
  {
   "cell_type": "code",
   "execution_count": 26,
   "metadata": {},
   "outputs": [
    {
     "data": {
      "text/plain": [
       "<matplotlib.axes._subplots.AxesSubplot at 0x27aad2b99b0>"
      ]
     },
     "execution_count": 26,
     "metadata": {},
     "output_type": "execute_result"
    },
    {
     "data": {
      "image/png": "[encoded data removed]",
      "text/plain": [
       "<Figure size 432x288 with 2 Axes>"
      ]
     },
     "metadata": {
      "needs_background": "light"
     },
     "output_type": "display_data"
    }
   ],
   "source": [
    "sns.heatmap(iris.corr(), square=True, annot=True)"
   ]
  },
  {
   "cell_type": "code",
   "execution_count": 37,
   "metadata": {},
   "outputs": [
    {
     "data": {
      "text/plain": [
       "Text(0.5, 0, 'PetalLengthCm')"
      ]
     },
     "execution_count": 37,
     "metadata": {},
     "output_type": "execute_result"
    },
    {
     "data": {
      "image/png": "[encoded data removed]",
      "text/plain": [
       "<Figure size 432x288 with 1 Axes>"
      ]
     },
     "metadata": {
      "needs_background": "light"
     },
     "output_type": "display_data"
    }
   ],
   "source": [
    "plt.plot(iris[\"PetalLengthCm\"],iris[\"SepalLengthCm\"], \"go\")\n",
    "plt.ylabel(\"SepalLengthCm\")\n",
    "plt.xlabel(\"PetalLengthCm\")"
   ]
  },
  {
   "cell_type": "code",
   "execution_count": 39,
   "metadata": {},
   "outputs": [
    {
     "data": {
      "text/plain": [
       "Text(0.5, 0, 'PetalWidthCm')"
      ]
     },
     "execution_count": 39,
     "metadata": {},
     "output_type": "execute_result"
    },
    {
     "data": {
      "image/png": "[encoded data removed]",
      "text/plain": [
       "<Figure size 432x288 with 1 Axes>"
      ]
     },
     "metadata": {
      "needs_background": "light"
     },
     "output_type": "display_data"
    }
   ],
   "source": [
    "plt.plot(iris[\"PetalWidthCm\"],iris[\"SepalLengthCm\"], \"ro\")\n",
    "plt.ylabel(\"SepalLengthCm\")\n",
    "plt.xlabel(\"PetalWidthCm\")"
   ]
  },
  {
   "cell_type": "code",
   "execution_count": 40,
   "metadata": {},
   "outputs": [
    {
     "data": {
      "text/plain": [
       "Text(0.5, 0, 'PetalWidthCm')"
      ]
     },
     "execution_count": 40,
     "metadata": {},
     "output_type": "execute_result"
    },
    {
     "data": {
      "image/png": "[encoded data removed]",
      "text/plain": [
       "<Figure size 432x288 with 1 Axes>"
      ]
     },
     "metadata": {
      "needs_background": "light"
     },
     "output_type": "display_data"
    }
   ],
   "source": [
    "plt.plot(iris[\"PetalWidthCm\"],iris[\"PetalLengthCm\"], \"bo\")\n",
    "plt.ylabel(\"SepalLengthCm\")\n",
    "plt.xlabel(\"PetalWidthCm\")"
   ]
  },
  {
   "cell_type": "markdown",
   "metadata": {},
   "source": [
    "### Conclusión: \n",
    "#### Existe una fuerte relacion entre las variables de PetalLengthCm y SepalLengthCm\n",
    "#### Existe una fuerte relacion entre las variables de PetalWidthCm y SepalLengthCm\n",
    "#### Existe una fuerte relacion entre las variables de PetalWidthCm y PetalLengthCm"
   ]
  }
 ],
 "metadata": {
  "kernelspec": {
   "display_name": "Python 3",
   "language": "python",
   "name": "python3"
  },
  "language_info": {
   "codemirror_mode": {
    "name": "ipython",
    "version": 3
   },
   "file_extension": ".py",
   "mimetype": "text/x-python",
   "name": "python",
   "nbconvert_exporter": "python",
   "pygments_lexer": "ipython3",
   "version": "3.5.6"
  }
 },
 "nbformat": 4,
 "nbformat_minor": 2
}
